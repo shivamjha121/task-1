{
 "cells": [
  {
   "cell_type": "markdown",
   "source": [
    " #task 1\r\n",
    " SIRSS2317\r\n",
    " Shivam Jha\r\n"
   ],
   "metadata": {}
  },
  {
   "cell_type": "code",
   "execution_count": 2,
   "source": [
    "''' 1  55555\r\n",
    "       5555\r\n",
    "       555\r\n",
    "       55\r\n",
    "       5 '''\r\n",
    "rows = 5\r\n",
    "\r\n",
    "num = rows\r\n",
    "\r\n",
    "for i in range(rows, 0, -1):\r\n",
    "\r\n",
    "    for j in range(0, i):\r\n",
    "\r\n",
    "        print(num, end= '')\r\n",
    "\r\n",
    "    print(\"\\r\")"
   ],
   "outputs": [
    {
     "output_type": "stream",
     "name": "stdout",
     "text": [
      "55555\n",
      "5555\n",
      "555\n",
      "55\n",
      "5\n"
     ]
    }
   ],
   "metadata": {}
  },
  {
   "cell_type": "code",
   "execution_count": 4,
   "source": [
    "''' 2:-  012345\r\n",
    "         01234\r\n",
    "         012\r\n",
    "         01\r\n",
    "         0   '''\r\n",
    "rows = 5\r\n",
    "\r\n",
    "for i in range(rows, 0, -1):\r\n",
    "\r\n",
    "    for j in range(0, i + 1):\r\n",
    "\r\n",
    "        print(j, end= '')\r\n",
    "\r\n",
    "    print(\"\\r\")"
   ],
   "outputs": [
    {
     "output_type": "stream",
     "name": "stdout",
     "text": [
      "012345\n",
      "01234\n",
      "0123\n",
      "012\n",
      "01\n"
     ]
    }
   ],
   "metadata": {}
  },
  {
   "cell_type": "code",
   "execution_count": 1,
   "source": [
    "''' 3:-  1\r\n",
    "         33\r\n",
    "         555\r\n",
    "         7777\r\n",
    "         99999 '''\r\n",
    "rows = 5\r\n",
    "\r\n",
    "i = 1\r\n",
    "\r\n",
    "while i <= rows:\r\n",
    "\r\n",
    "    j = 1\r\n",
    "\r\n",
    "    while j <= i:\r\n",
    "\r\n",
    "        print((i * 2 - 1), end= ' ')\r\n",
    "        j = j + 1\r\n",
    "\r\n",
    "    i = i + 1\r\n",
    "\r\n",
    "    print()         "
   ],
   "outputs": [
    {
     "output_type": "stream",
     "name": "stdout",
     "text": [
      "1 \n",
      "3 3 \n",
      "5 5 5 \n",
      "7 7 7 7 \n",
      "9 9 9 9 9 \n"
     ]
    }
   ],
   "metadata": {}
  },
  {
   "cell_type": "code",
   "execution_count": null,
   "source": [
    "''' 4:-  1\r\n",
    "         21\r\n",
    "         321\r\n",
    "         4321\r\n",
    "         54321 '''\r\n",
    "rows = 6\r\n",
    "\r\n",
    "for row in range(1, rows):\r\n",
    "\r\n",
    "    for column in range(row, 0, -1):\r\n",
    "\r\n",
    "        print(column, end= '')\r\n",
    "\r\n",
    "    print(\"\")\r\n"
   ],
   "outputs": [],
   "metadata": {}
  },
  {
   "cell_type": "code",
   "execution_count": null,
   "source": [
    "''' 5:-  1\r\n",
    "         32\r\n",
    "         654\r\n",
    "         10987\r\n",
    "               '''\r\n",
    "start = 1\r\n",
    "\r\n",
    "stop = 2\r\n",
    "\r\n",
    "currentNumber = stop\r\n",
    "\r\n",
    "for row in range(2, 6):\r\n",
    "\r\n",
    "    for col in range(start, stop):\r\n",
    "\r\n",
    "        currentNumber -= 1\r\n",
    "\r\n",
    "        print(currentNumber, end= '')\r\n",
    "\r\n",
    "    print(\"\")\r\n",
    "\r\n",
    "    start = stop\r\n",
    "\r\n",
    "    stop += row\r\n",
    "\r\n",
    "    currentNumber = stop"
   ],
   "outputs": [],
   "metadata": {}
  },
  {
   "cell_type": "code",
   "execution_count": 1,
   "source": [
    "''' 6:-  1\r\n",
    "         11\r\n",
    "         121\r\n",
    "         1331\r\n",
    "         14641\r\n",
    "         15101051\r\n",
    "         1615201561 \r\n",
    "         '''\r\n",
    "def print_pascal_triangle(size):\r\n",
    "    for i in range(0, size):\r\n",
    "        for j in range(0, i + 1):\r\n",
    "            print(decide_number(i, j), end=\" \")\r\n",
    "        print()\r\n",
    "\r\n",
    "\r\n",
    "def decide_number(n, k):\r\n",
    "    num = 1\r\n",
    "    if k > n - k:\r\n",
    "        k = n - k\r\n",
    "    for i in range(0, k):\r\n",
    "        num = num * (n - i)\r\n",
    "        num = num // (i + 1)\r\n",
    "    return num\r\n",
    "\r\n",
    "# set rows\r\n",
    "rows = 7\r\n",
    "print_pascal_triangle(rows)\r\n"
   ],
   "outputs": [
    {
     "output_type": "stream",
     "name": "stdout",
     "text": [
      "1 \n",
      "1 1 \n",
      "1 2 1 \n",
      "1 3 3 1 \n",
      "1 4 6 4 1 \n",
      "1 5 10 10 5 1 \n",
      "1 6 15 20 15 6 1 \n"
     ]
    }
   ],
   "metadata": {}
  },
  {
   "cell_type": "code",
   "execution_count": 2,
   "source": [
    "''' 7:-  12345\r\n",
    "         22345\r\n",
    "         33345\r\n",
    "         44445\r\n",
    "         55555 '''\r\n",
    "rows = 5\r\n",
    "for i in range(1, rows + 1):\r\n",
    "    for j in range(1, rows + 1):\r\n",
    "        if j <= i:\r\n",
    "            print(i, end=' ')\r\n",
    "        else:\r\n",
    "            print(j, end=' ')\r\n",
    "    print()\r\n"
   ],
   "outputs": [
    {
     "output_type": "stream",
     "name": "stdout",
     "text": [
      "1 2 3 4 5 \n",
      "2 2 3 4 5 \n",
      "3 3 3 4 5 \n",
      "4 4 4 4 5 \n",
      "5 5 5 5 5 \n"
     ]
    }
   ],
   "metadata": {}
  },
  {
   "cell_type": "code",
   "execution_count": null,
   "source": [
    "''' 8:-\r\n",
    "1\r\n",
    "2 4\r\n",
    "3 6 9\r\n",
    "4 8 12 16\r\n",
    "5 10 15 20 25\r\n",
    "6 12 18 24 30 36\r\n",
    "7 14 21 28 35 42 49\r\n",
    "8 16 24 32 40 48 56 64\r\n",
    "'''\r\n",
    "rows = 8\r\n",
    "# rows = int(input(\"Enter the number of rows \"))\r\n",
    "for i in range(1, rows + 1):\r\n",
    "    for j in range(1, i + 1):\r\n",
    "        # multiplication current column and row\r\n",
    "        square = i * j\r\n",
    "        print(i * j, end='  ')\r\n",
    "    print()\r\n"
   ],
   "outputs": [],
   "metadata": {}
  },
  {
   "cell_type": "code",
   "execution_count": 5,
   "source": [
    "'''' 9:-\r\n",
    "      * * * * * *\r\n",
    "       * * * * *\r\n",
    "        * * * *\r\n",
    "         * * *\r\n",
    "          * *\r\n",
    "           * \r\n",
    "'''\r\n",
    "rows = 5\r\n",
    "k = 2 * rows - 2\r\n",
    "for i in range(rows, -1, -1):\r\n",
    "    for j in range(k, 0, -1):\r\n",
    "        print(end=\" \")\r\n",
    "    k = k + 1\r\n",
    "    for j in range(0, i + 1):\r\n",
    "        print(\"*\", end=\" \")\r\n",
    "    print(\"\")\r\n"
   ],
   "outputs": [
    {
     "output_type": "stream",
     "name": "stdout",
     "text": [
      "        * * * * * * \n",
      "         * * * * * \n",
      "          * * * * \n",
      "           * * * \n",
      "            * * \n",
      "             * \n"
     ]
    }
   ],
   "metadata": {}
  },
  {
   "cell_type": "code",
   "execution_count": null,
   "source": [
    "''' 10:- \r\n",
    "                      *\r\n",
    "                     * *\r\n",
    "                    * * *\r\n",
    "                   * * * *\r\n",
    "                  * * * * *\r\n",
    "                 * * * * * *\r\n",
    "                * * * * * * *\r\n",
    "\r\n",
    "'''\r\n",
    "print(\"Print equilateral triangle Pyramid using asterisk symbol \")\r\n",
    "# printing full Triangle pyramid using stars\r\n",
    "size = 7\r\n",
    "m = (2 * size) - 2\r\n",
    "for i in range(0, size):\r\n",
    "    for j in range(0, m):\r\n",
    "        print(end=\" \")\r\n",
    "    # decrementing m after each loop\r\n",
    "    m = m - 1\r\n",
    "    for j in range(0, i + 1):\r\n",
    "        print(\"* \", end=' ')\r\n",
    "    print(\" \")\r\n"
   ],
   "outputs": [],
   "metadata": {}
  },
  {
   "cell_type": "code",
   "execution_count": null,
   "source": [
    "''' 11:-\r\n",
    "*\r\n",
    "* *\r\n",
    "* * *\r\n",
    "* * * *\r\n",
    "* * * * *\r\n",
    "* * * * * *\r\n",
    "\r\n",
    "* * * * * *\r\n",
    "* * * * *\r\n",
    "* * * *\r\n",
    "* * *\r\n",
    "* *\r\n",
    "* \r\n",
    "'''\r\n",
    "rows = 6\r\n",
    "for i in range(0, rows):\r\n",
    "    for j in range(0, i + 1):\r\n",
    "        print(\"*\", end=' ')\r\n",
    "    print(\" \")\r\n",
    "\r\n",
    "print(\" \")\r\n",
    "\r\n",
    "for i in range(rows + 1, 0, -1):\r\n",
    "    for j in range(0, i - 1):\r\n",
    "        print(\"*\", end=' ')\r\n",
    "    print(\" \")\r\n"
   ],
   "outputs": [],
   "metadata": {}
  },
  {
   "cell_type": "code",
   "execution_count": null,
   "source": [
    "''' 12:-\r\n",
    "*\r\n",
    "* *\r\n",
    "* * *\r\n",
    "* * * *\r\n",
    "* * * * *\r\n",
    "* * * *\r\n",
    "* * *\r\n",
    "* *\r\n",
    "* \r\n",
    "'''\r\n",
    "rows = 5\r\n",
    "for i in range(0, rows):\r\n",
    "    for j in range(0, i + 1):\r\n",
    "        print(\"*\", end=' ')\r\n",
    "    print(\"\\r\")\r\n",
    "\r\n",
    "for i in range(rows, 0, -1):\r\n",
    "    for j in range(0, i - 1):\r\n",
    "        print(\"*\", end=' ')\r\n",
    "    print(\"\\r\")\r\n"
   ],
   "outputs": [],
   "metadata": {}
  },
  {
   "cell_type": "code",
   "execution_count": null,
   "source": [
    "''' 13:-\r\n",
    "                   *\r\n",
    "                 * *\r\n",
    "               * * *\r\n",
    "             * * * *\r\n",
    "           * * * * *\r\n",
    "             * * * *\r\n",
    "               * * *\r\n",
    "                 * *\r\n",
    "                   *\r\n",
    "'''\r\n",
    "rows = 5\r\n",
    "i = 1\r\n",
    "while i <= rows:\r\n",
    "    j = i\r\n",
    "    while j < rows:\r\n",
    "        # display space\r\n",
    "        print(' ', end=' ')\r\n",
    "        j += 1\r\n",
    "    k = 1\r\n",
    "    while k <= i:\r\n",
    "        print('*', end=' ')\r\n",
    "        k += 1\r\n",
    "    print()\r\n",
    "    i += 1\r\n",
    "\r\n",
    "i = rows\r\n",
    "while i >= 1:\r\n",
    "    j = i\r\n",
    "    while j <= rows:\r\n",
    "        print(' ', end=' ')\r\n",
    "        j += 1\r\n",
    "    k = 1\r\n",
    "    while k < i:\r\n",
    "        print('*', end=' ')\r\n",
    "        k += 1\r\n",
    "    print('')\r\n",
    "    i -= 1\r\n"
   ],
   "outputs": [],
   "metadata": {}
  },
  {
   "cell_type": "code",
   "execution_count": null,
   "source": [
    "'''\r\n",
    "              * * * * *\r\n",
    "               * * * *\r\n",
    "                * * *\r\n",
    "                 * *\r\n",
    "                  *\r\n",
    "                  *\r\n",
    "                 * *\r\n",
    "                * * *\r\n",
    "               * * * *\r\n",
    "              * * * * *                      \r\n",
    "'''\r\n",
    "rows = 5\r\n",
    "i = 0\r\n",
    "while i <= rows - 1:\r\n",
    "    j = 0\r\n",
    "    while j < i:\r\n",
    "        # display space\r\n",
    "        print('', end=' ')\r\n",
    "        j += 1\r\n",
    "    k = i\r\n",
    "    while k <= rows - 1:\r\n",
    "        print('*', end=' ')\r\n",
    "        k += 1\r\n",
    "    print()\r\n",
    "    i += 1\r\n",
    "\r\n",
    "i = rows - 1\r\n",
    "while i >= 0:\r\n",
    "    j = 0\r\n",
    "    while j < i:\r\n",
    "        print('', end=' ')\r\n",
    "        j += 1\r\n",
    "    k = i\r\n",
    "    while k <= rows - 1:\r\n",
    "        print('*', end=' ')\r\n",
    "        k += 1\r\n",
    "    print('')\r\n",
    "    i -= 1\r\n"
   ],
   "outputs": [],
   "metadata": {}
  },
  {
   "cell_type": "code",
   "execution_count": null,
   "source": [
    "''' 15:-\r\n",
    "****************\r\n",
    "*******__*******\r\n",
    "******____******\r\n",
    "*****______*****\r\n",
    "****________****\r\n",
    "***__________***\r\n",
    "**____________**\r\n",
    "*______________*\r\n",
    "'''\r\n",
    "rows = 14\r\n",
    "print(\"*\" * rows, end=\"\\n\")\r\n",
    "i = (rows // 2) - 1\r\n",
    "j = 2\r\n",
    "while i != 0:\r\n",
    "    while j <= (rows - 2):\r\n",
    "        print(\"*\" * i, end=\"\")\r\n",
    "        print(\"_\" * j, end=\"\")\r\n",
    "        print(\"*\" * i, end=\"\\n\")\r\n",
    "        i = i - 1\r\n",
    "        j = j + 2"
   ],
   "outputs": [],
   "metadata": {}
  }
 ],
 "metadata": {
  "orig_nbformat": 4,
  "language_info": {
   "name": "python",
   "version": "3.9.6",
   "mimetype": "text/x-python",
   "codemirror_mode": {
    "name": "ipython",
    "version": 3
   },
   "pygments_lexer": "ipython3",
   "nbconvert_exporter": "python",
   "file_extension": ".py"
  },
  "kernelspec": {
   "name": "python3",
   "display_name": "Python 3.9.6 64-bit"
  },
  "interpreter": {
   "hash": "33dc6d49505b4536b6a128d9d7c879e1fa44477ad44947bbbe73093067fe6393"
  }
 },
 "nbformat": 4,
 "nbformat_minor": 2
}